{
 "cells": [
  {
   "cell_type": "code",
   "execution_count": 3,
   "metadata": {},
   "outputs": [
    {
     "name": "stdout",
     "output_type": "stream",
     "text": [
      "[13, 8, 4, 1]\n"
     ]
    }
   ],
   "source": [
    "num=[1,4,8,13]\n",
    "num.sort(reverse=True)\n",
    "print(num)"
   ]
  },
  {
   "cell_type": "code",
   "execution_count": 23,
   "metadata": {},
   "outputs": [],
   "source": [
    "def maxFrequency(nums,k):\n",
    "    nums.sort(reverse=True)\n",
    "\n",
    "    res=0\n",
    "    token=k\n",
    "    \n",
    "    l=0\n",
    "    r=0\n",
    "\n",
    "    while r<len(nums):\n",
    "        if nums[r]==nums[l]:\n",
    "            r+=1\n",
    "        if nums[r]<nums[l]:\n",
    "            print(\"Hi\")\n",
    "            sub=nums[l]-nums[r]\n",
    "            token=token-sub\n",
    "            if not token<=0:\n",
    "                r+=1\n",
    "\n",
    "        if token==0:\n",
    "           \n",
    "            token=k\n",
    "            res=max(res,(r-l)+1)\n",
    "            print(r)\n",
    "            l=r\n",
    "            r+=1\n",
    "        if token<0:\n",
    "            r-=1\n",
    "            token=k\n",
    "            res=max(res,(r-l)+1)\n",
    "            print(r)\n",
    "            l=r\n",
    "            r+=1\n",
    "    \n",
    "    return res\n",
    "        \n",
    "\n",
    "\n",
    "\n",
    "    \n",
    "   "
   ]
  },
  {
   "cell_type": "code",
   "execution_count": 25,
   "metadata": {},
   "outputs": [
    {
     "name": "stdout",
     "output_type": "stream",
     "text": [
      "<class 'dict'>\n"
     ]
    }
   ],
   "source": [
    "import collections\n",
    "dicts=collections.defaultdict(int)\n",
    "print(dict)"
   ]
  }
 ],
 "metadata": {
  "kernelspec": {
   "display_name": "Python 3",
   "language": "python",
   "name": "python3"
  },
  "language_info": {
   "codemirror_mode": {
    "name": "ipython",
    "version": 3
   },
   "file_extension": ".py",
   "mimetype": "text/x-python",
   "name": "python",
   "nbconvert_exporter": "python",
   "pygments_lexer": "ipython3",
   "version": "3.11.1 (tags/v3.11.1:a7a450f, Dec  6 2022, 19:58:39) [MSC v.1934 64 bit (AMD64)]"
  },
  "orig_nbformat": 4,
  "vscode": {
   "interpreter": {
    "hash": "ebfc0a8d552866b0d59eba665220a57de3bc06f3ac643b8bef38dd8f66781fdd"
   }
  }
 },
 "nbformat": 4,
 "nbformat_minor": 2
}
